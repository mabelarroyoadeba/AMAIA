{
 "cells": [
  {
   "cell_type": "markdown",
   "metadata": {},
   "source": [
    "# Entrenamiento agente\n"
   ]
  },
  {
   "cell_type": "code",
   "execution_count": null,
   "metadata": {
    "_kg_hide-output": true,
    "execution": {
     "iopub.execute_input": "2022-12-30T10:50:01.556305Z",
     "iopub.status.busy": "2022-12-30T10:50:01.555965Z",
     "iopub.status.idle": "2022-12-30T10:50:31.489073Z",
     "shell.execute_reply": "2022-12-30T10:50:31.487904Z",
     "shell.execute_reply.started": "2022-12-30T10:50:01.556275Z"
    }
   },
   "outputs": [],
   "source": [
    "!pip install openai\n",
    "\n",
    "# Cargar librerias\n",
    "import openai\n",
    "import pandas as pd\n",
    "import time\n",
    "import torch\n",
    "import matplotlib\n",
    "import matplotlib.pyplot as plt\n",
    "import numpy as np\n",
    "\n",
    "from transformers import BertModel, BertTokenizer\n",
    "from torch import nn"
   ]
  },
  {
   "cell_type": "code",
   "execution_count": null,
   "metadata": {
    "execution": {
     "iopub.execute_input": "2022-12-30T10:50:36.266383Z",
     "iopub.status.busy": "2022-12-30T10:50:36.265313Z",
     "iopub.status.idle": "2022-12-30T10:50:36.272670Z",
     "shell.execute_reply": "2022-12-30T10:50:36.271194Z",
     "shell.execute_reply.started": "2022-12-30T10:50:36.266300Z"
    }
   },
   "outputs": [],
   "source": [
    "# Definición de constantes\n",
    "PRE_TRAINED_MODEL_NAME = 'bert-base-cased'\n",
    "NCLASSES = 4\n",
    "PATH = '/kaggle/input/rewardmodel/reward4.pth'"
   ]
  },
  {
   "cell_type": "markdown",
   "metadata": {},
   "source": [
    "# Carga del modelo de recompensas"
   ]
  },
  {
   "cell_type": "code",
   "execution_count": null,
   "metadata": {
    "execution": {
     "iopub.execute_input": "2022-12-30T10:50:38.498962Z",
     "iopub.status.busy": "2022-12-30T10:50:38.498214Z",
     "iopub.status.idle": "2022-12-30T10:50:38.506565Z",
     "shell.execute_reply": "2022-12-30T10:50:38.505357Z",
     "shell.execute_reply.started": "2022-12-30T10:50:38.498921Z"
    }
   },
   "outputs": [],
   "source": [
    "# DEFINICIÓN de la estructura de la red neuronal del modelo\n",
    "class BERTSentimentClassifier(nn.Module):\n",
    "    def __init__(self, n_classes):\n",
    "        super(BERTSentimentClassifier, self).__init__()\n",
    "        self.bert = BertModel.from_pretrained(PRE_TRAINED_MODEL_NAME)\n",
    "        self.drop = nn.Dropout(p=0.4)\n",
    "        self.linear = nn.Linear(self.bert.config.hidden_size, n_classes)\n",
    "\n",
    "    def forward(self, input_ids, attention_mask):\n",
    "        _, cls_output = self.bert(\n",
    "            input_ids = input_ids,\n",
    "            attention_mask = attention_mask,\n",
    "            return_dict=False\n",
    "        )\n",
    "        drop_output = self.drop(cls_output)\n",
    "        output = self.linear(drop_output)\n",
    "        return output"
   ]
  },
  {
   "cell_type": "code",
   "execution_count": null,
   "metadata": {
    "execution": {
     "iopub.execute_input": "2022-12-30T10:50:42.488418Z",
     "iopub.status.busy": "2022-12-30T10:50:42.487938Z",
     "iopub.status.idle": "2022-12-30T10:50:42.613067Z",
     "shell.execute_reply": "2022-12-30T10:50:42.611875Z",
     "shell.execute_reply.started": "2022-12-30T10:50:42.488322Z"
    }
   },
   "outputs": [],
   "source": [
    "device = torch.device(\"cuda:0\" if torch.cuda.is_available() else \"cpu\")"
   ]
  },
  {
   "cell_type": "code",
   "execution_count": null,
   "metadata": {
    "execution": {
     "iopub.execute_input": "2022-12-30T10:50:46.552982Z",
     "iopub.status.busy": "2022-12-30T10:50:46.552268Z",
     "iopub.status.idle": "2022-12-30T10:51:06.520771Z",
     "shell.execute_reply": "2022-12-30T10:51:06.519686Z",
     "shell.execute_reply.started": "2022-12-30T10:50:46.552945Z"
    }
   },
   "outputs": [],
   "source": [
    "# Cargar los parámetros del modelo guardado\n",
    "model_loaded = BERTSentimentClassifier(NCLASSES)\n",
    "model_loaded.load_state_dict(torch.load(PATH))\n",
    "model_loaded.eval()\n",
    "model_loaded = model_loaded.to(device)"
   ]
  },
  {
   "cell_type": "code",
   "execution_count": null,
   "metadata": {
    "execution": {
     "iopub.execute_input": "2022-12-30T10:51:11.481010Z",
     "iopub.status.busy": "2022-12-30T10:51:11.480273Z",
     "iopub.status.idle": "2022-12-30T10:51:11.488070Z",
     "shell.execute_reply": "2022-12-30T10:51:11.486718Z",
     "shell.execute_reply.started": "2022-12-30T10:51:11.480973Z"
    }
   },
   "outputs": [],
   "source": [
    "# Clasificador\n",
    "def classifySentiment_loaded(utterance1,utterance2):\n",
    "    encoding_review = tokenizer.encode_plus(\n",
    "        utterance1,\n",
    "        utterance2,\n",
    "        max_length = 125,\n",
    "        truncation = True,\n",
    "        add_special_tokens = True,\n",
    "        return_token_type_ids = False,\n",
    "        padding = 'max_length',\n",
    "        return_attention_mask = True,\n",
    "        return_tensors = 'pt'\n",
    "        )\n",
    "  \n",
    "    input_ids = encoding_review['input_ids'].to(device)\n",
    "    attention_mask = encoding_review['attention_mask'].to(device)\n",
    "    output = model_loaded(input_ids, attention_mask)\n",
    "    _, prediction = torch.max(output, dim=1)\n",
    "    \n",
    "    #print('Nivel de emoción',prediction)\n",
    "    return prediction  "
   ]
  },
  {
   "cell_type": "code",
   "execution_count": null,
   "metadata": {
    "execution": {
     "iopub.execute_input": "2022-12-30T10:51:17.017964Z",
     "iopub.status.busy": "2022-12-30T10:51:17.017605Z",
     "iopub.status.idle": "2022-12-30T10:51:18.361172Z",
     "shell.execute_reply": "2022-12-30T10:51:18.360131Z",
     "shell.execute_reply.started": "2022-12-30T10:51:17.017932Z"
    }
   },
   "outputs": [],
   "source": [
    "# TOKENIZACIÓN\n",
    "tokenizer = BertTokenizer.from_pretrained(PRE_TRAINED_MODEL_NAME)"
   ]
  },
  {
   "cell_type": "markdown",
   "metadata": {},
   "source": [
    "# Ejecución algoritmo basado en REINFORCE\n",
    "\n",
    "## Inicialización"
   ]
  },
  {
   "cell_type": "code",
   "execution_count": null,
   "metadata": {
    "execution": {
     "iopub.execute_input": "2022-12-30T10:51:27.937440Z",
     "iopub.status.busy": "2022-12-30T10:51:27.937056Z",
     "iopub.status.idle": "2022-12-30T10:51:27.943647Z",
     "shell.execute_reply": "2022-12-30T10:51:27.942474Z",
     "shell.execute_reply.started": "2022-12-30T10:51:27.937406Z"
    }
   },
   "outputs": [],
   "source": [
    "# Cálculo de la recompensa utilizando el clasificador BERT\n",
    "def calc_reward(utter1,utter2):\n",
    "    reward_level = [-2,-1,1,2]\n",
    "    emotion_level = classifySentiment_loaded(utter1,utter2).item()\n",
    "    reward = reward_level[emotion_level]\n",
    "    return reward,emotion_level"
   ]
  },
  {
   "cell_type": "code",
   "execution_count": null,
   "metadata": {
    "execution": {
     "iopub.execute_input": "2022-12-30T10:51:30.839152Z",
     "iopub.status.busy": "2022-12-30T10:51:30.838312Z",
     "iopub.status.idle": "2022-12-30T10:51:30.845756Z",
     "shell.execute_reply": "2022-12-30T10:51:30.844529Z",
     "shell.execute_reply.started": "2022-12-30T10:51:30.839111Z"
    }
   },
   "outputs": [],
   "source": [
    "# Respuesta a una oración con el modelo GPT-3 entrenado\n",
    "def answer_of(Tin,ft_model):\n",
    "    ans = openai.Completion.create(model=ft_model, prompt=Tin, max_tokens=18, temperature=1)\n",
    "    Tout = ans['choices'][0]['text']\n",
    "    return Tout"
   ]
  },
  {
   "cell_type": "code",
   "execution_count": null,
   "metadata": {
    "execution": {
     "iopub.execute_input": "2022-12-30T10:51:38.489837Z",
     "iopub.status.busy": "2022-12-30T10:51:38.489095Z",
     "iopub.status.idle": "2022-12-30T10:51:38.555098Z",
     "shell.execute_reply": "2022-12-30T10:51:38.554063Z",
     "shell.execute_reply.started": "2022-12-30T10:51:38.489802Z"
    }
   },
   "outputs": [],
   "source": [
    "# Cargamos las sentencias de test que tengan un nivel de emoción menor que el máximo\n",
    "# recordamos que el objetivo es conseguir una mejora en la emoción\n",
    "df_test = pd.read_csv('/kaggle/input/ed-test/ED_test_p.csv',sep=\";\")\n",
    "df_agent=df_test[df_test['emotion']!=3]"
   ]
  },
  {
   "cell_type": "code",
   "execution_count": null,
   "metadata": {
    "execution": {
     "iopub.execute_input": "2022-12-30T10:51:40.897500Z",
     "iopub.status.busy": "2022-12-30T10:51:40.897031Z",
     "iopub.status.idle": "2022-12-30T10:51:40.940328Z",
     "shell.execute_reply": "2022-12-30T10:51:40.939419Z",
     "shell.execute_reply.started": "2022-12-30T10:51:40.897462Z"
    }
   },
   "outputs": [],
   "source": [
    "df_agent.head()\n"
   ]
  },
  {
   "cell_type": "code",
   "execution_count": null,
   "metadata": {
    "execution": {
     "iopub.execute_input": "2022-12-29T16:48:33.264113Z",
     "iopub.status.busy": "2022-12-29T16:48:33.263726Z",
     "iopub.status.idle": "2022-12-29T16:48:33.273339Z",
     "shell.execute_reply": "2022-12-29T16:48:33.272390Z",
     "shell.execute_reply.started": "2022-12-29T16:48:33.264082Z"
    }
   },
   "outputs": [],
   "source": [
    "# Primera ejecución\n",
    "episode = 0 \n",
    "\n",
    "ft_model1 = 'ada:ft-mabel-2022-11-30-22-47-42' # El primer modelo entrenado con el set de datos de entrenamiento\n",
    "ft_model2 = 'ada:ft-mabel-2022-11-30-22-47-42' # El modelo del agente 2 se inicializa con el 1\n",
    "\n",
    "# Fichero donde se guardarán los nombres de los modelos entrenados\n",
    "f = open('trained_models.txt','w')\n",
    "f.write('Modelos entrenados:' + '\\n')\n",
    "f.write('ada:ft-mabel-2022-11-30-22-47-42'+ '\\n')"
   ]
  },
  {
   "cell_type": "code",
   "execution_count": null,
   "metadata": {
    "execution": {
     "iopub.execute_input": "2022-12-30T10:58:39.921551Z",
     "iopub.status.busy": "2022-12-30T10:58:39.921102Z",
     "iopub.status.idle": "2022-12-30T10:58:39.928571Z",
     "shell.execute_reply": "2022-12-30T10:58:39.927227Z",
     "shell.execute_reply.started": "2022-12-30T10:58:39.921515Z"
    }
   },
   "outputs": [],
   "source": [
    "# Ejecuciones posteriores si cerramos sesión y ya han habido algunos capítulos de entrenamiento\n",
    "episode = 10 \n",
    "\n",
    "ft_model1 = 'ada:ft-mabel-2022-11-30-22-47-42' # El primer modelo entrenado con el set de datos de entrenamiento\n",
    "\n",
    "# Fichero donde se guardarán los nombres de los modelos entrenados\n",
    "f = open('/kaggle/working/trained_models.txt','a')\n",
    "\n",
    "# Recuperación de variables\n",
    "ft_model2 = 'ada:ft-mabel-2022-12-29-23-25-57' # Último modelo entrenado antes de cerrar sesión\n",
    "retorno = [-1456, -326, 1290, 1632, 2046]"
   ]
  },
  {
   "cell_type": "code",
   "execution_count": null,
   "metadata": {
    "execution": {
     "iopub.execute_input": "2022-12-30T10:58:45.156879Z",
     "iopub.status.busy": "2022-12-30T10:58:45.156502Z",
     "iopub.status.idle": "2022-12-30T10:58:45.161700Z",
     "shell.execute_reply": "2022-12-30T10:58:45.160688Z",
     "shell.execute_reply.started": "2022-12-30T10:58:45.156849Z"
    }
   },
   "outputs": [],
   "source": [
    "openai.api_key = OPENAI_API_KEY"
   ]
  },
  {
   "cell_type": "markdown",
   "metadata": {},
   "source": [
    "## Entrenamiento"
   ]
  },
  {
   "cell_type": "code",
   "execution_count": null,
   "metadata": {
    "execution": {
     "iopub.execute_input": "2022-12-30T16:07:07.425099Z",
     "iopub.status.busy": "2022-12-30T16:07:07.424663Z",
     "iopub.status.idle": "2022-12-30T16:46:46.356420Z",
     "shell.execute_reply": "2022-12-30T16:46:46.355246Z",
     "shell.execute_reply.started": "2022-12-30T16:07:07.425058Z"
    }
   },
   "outputs": [],
   "source": [
    "\n",
    "#NUM_EPISODES = 1\n",
    "coste = 0\n",
    "reward = 0 # Recompensa acumulada del episodio\n",
    "\n",
    "# ACCION: Para cada primera oración de la base de datos de test   \n",
    "for index, row in df_agent.iterrows(): \n",
    "    T1 = row['utterance']\n",
    "    T1_emotion = row['emotion']\n",
    "    T2 = answer_of(T1,ft_model2) # Recuperamos la respuesta a T1\n",
    "    T3 = answer_of(T2,ft_model1) # Respuesta a T2\n",
    "    reward_T2T3, emotion_T2T3 = calc_reward(T2,T3) # Cálculo de la recompensa y nivel de emoción de la respuesta a la respuesta\n",
    "    loss = 2 - reward_T2T3 \n",
    "    reward = reward + reward_T2T3\n",
    "\n",
    "    # Guardamos en la base de datos los valores de cada iteración\n",
    "    df_agent.at[index,'T1'] = T1\n",
    "    df_agent.at[index,'emoT1'] = T1_emotion\n",
    "    df_agent.at[index,'T2'] = T2\n",
    "    df_agent.at[index,'T3'] = T3\n",
    "    df_agent.at[index,'rewT2T3'] = reward_T2T3\n",
    "    df_agent.at[index,'emoT2T3'] = emotion_T2T3\n",
    "    df_agent.at[index,'loss'] = loss\n",
    "\n",
    "    # Indicador de proceso\n",
    "    if (index % 500) == 0:\n",
    "        print('Indice:' ,index)\n",
    "\n",
    "episode = episode + 1\n",
    "\n",
    "# Guardar los datos del entrenamiento\n",
    "agent_file = 'agent' + str(episode) + '.csv'\n",
    "df_agent.to_csv(agent_file,index = False)\n",
    "    \n",
    "# Tomamos las lineas que han mejorado el nivel de emoción y reentrenamos el modelo GPT-3 con esas lineas\n",
    "df_better = df_agent[df_agent['emoT2T3']>df_agent['emoT1']]\n",
    "\n",
    "# Recuperamos las columnas T1 y T2\n",
    "df_better_GPT3 = df_better[['T1','T2']] \n",
    "\n",
    "# Cambiamos el nombre de las columna para adaptar el dataset a lo que necesita GPT3\n",
    "df_better_GPT3.rename(columns={'T1':'prompt','T2':'completion'},inplace=True)\n",
    "\n",
    "# Grabar en csv \n",
    "better_file = 'better'+ str(episode) + '.csv'\n",
    "df_better_GPT3.to_csv(better_file,index=False)"
   ]
  },
  {
   "cell_type": "code",
   "execution_count": null,
   "metadata": {
    "execution": {
     "iopub.execute_input": "2022-12-30T16:50:26.447439Z",
     "iopub.status.busy": "2022-12-30T16:50:26.447044Z",
     "iopub.status.idle": "2022-12-30T16:50:28.363440Z",
     "shell.execute_reply": "2022-12-30T16:50:28.362375Z",
     "shell.execute_reply.started": "2022-12-30T16:50:26.447404Z"
    }
   },
   "outputs": [],
   "source": [
    "better_file = '/kaggle/working/' + better_file\n",
    "# Convertir csv a jsonl que es el formato que GPT3 necesita para reentrenar\n",
    "!yes | openai tools fine_tunes.prepare_data -f better_file"
   ]
  },
  {
   "cell_type": "code",
   "execution_count": null,
   "metadata": {
    "execution": {
     "iopub.execute_input": "2022-12-30T16:50:33.133609Z",
     "iopub.status.busy": "2022-12-30T16:50:33.133201Z",
     "iopub.status.idle": "2022-12-30T16:50:34.434156Z",
     "shell.execute_reply": "2022-12-30T16:50:34.432935Z",
     "shell.execute_reply.started": "2022-12-30T16:50:33.133572Z"
    }
   },
   "outputs": [],
   "source": [
    "# Creación del file_id a partir del fichero json\n",
    "better_prepared_file = '/kaggle/working/better' + str(episode) + '_prepared.jsonl'\n",
    "with open(better_prepared_file) as f:\n",
    "    response = openai.File.create(file=f, purpose='fine-tune')\n",
    "    print(response)\n",
    "    print(response['id'])    \n",
    "    file_id = response['id']"
   ]
  },
  {
   "cell_type": "code",
   "execution_count": null,
   "metadata": {
    "execution": {
     "iopub.execute_input": "2022-12-30T16:50:38.047098Z",
     "iopub.status.busy": "2022-12-30T16:50:38.046749Z",
     "iopub.status.idle": "2022-12-30T16:50:38.210410Z",
     "shell.execute_reply": "2022-12-30T16:50:38.209408Z",
     "shell.execute_reply.started": "2022-12-30T16:50:38.047069Z"
    }
   },
   "outputs": [],
   "source": [
    "# El file_id se utiliza para crear el proceso de entrenamiento del modelo.\n",
    "response = openai.FineTune.create(training_file=file_id, model=ft_model2)\n",
    "print(response)"
   ]
  },
  {
   "cell_type": "code",
   "execution_count": null,
   "metadata": {
    "execution": {
     "iopub.execute_input": "2022-12-30T16:50:42.075017Z",
     "iopub.status.busy": "2022-12-30T16:50:42.074303Z",
     "iopub.status.idle": "2022-12-30T16:50:42.081905Z",
     "shell.execute_reply": "2022-12-30T16:50:42.080507Z",
     "shell.execute_reply.started": "2022-12-30T16:50:42.074979Z"
    }
   },
   "outputs": [],
   "source": [
    "# id del proceso del entrenamiento\n",
    "id_FT = response['events'][0]['message'][-27:]\n",
    "print('id_FT: ', id_FT)"
   ]
  },
  {
   "cell_type": "code",
   "execution_count": null,
   "metadata": {
    "execution": {
     "iopub.execute_input": "2022-12-30T16:50:46.518949Z",
     "iopub.status.busy": "2022-12-30T16:50:46.518199Z",
     "iopub.status.idle": "2022-12-30T17:15:48.190147Z",
     "shell.execute_reply": "2022-12-30T17:15:48.189115Z",
     "shell.execute_reply.started": "2022-12-30T16:50:46.518911Z"
    }
   },
   "outputs": [],
   "source": [
    "\n",
    "# Comprueba estado del entrenamiento cada 5 minutos\n",
    "# cuando pasa de 'running' a 'succeeded' el proceso a terminado y \n",
    "# obtenemos el nombre del modelo generado\n",
    "state = 'running'\n",
    "while state != 'succeeded':  \n",
    "    print(\"Entrenando...\")\n",
    "    time.sleep(300)\n",
    "    response = openai.FineTune.retrieve(id=id_FT)\n",
    "    state = response['status']\n",
    "\n",
    "print(\"Finalizado\")"
   ]
  },
  {
   "cell_type": "code",
   "execution_count": null,
   "metadata": {
    "execution": {
     "iopub.execute_input": "2022-12-30T17:17:59.114441Z",
     "iopub.status.busy": "2022-12-30T17:17:59.114051Z",
     "iopub.status.idle": "2022-12-30T17:17:59.122418Z",
     "shell.execute_reply": "2022-12-30T17:17:59.121108Z",
     "shell.execute_reply.started": "2022-12-30T17:17:59.114408Z"
    }
   },
   "outputs": [],
   "source": [
    "ft_model2 = response['fine_tuned_model']\n",
    "\n",
    "coste = float(response['events'][1]['message'][17:])\n",
    "# Guardar nombre del modelo y el coste del entrenamiento\n",
    "f = open('trained_models.txt','a')\n",
    "f.write(ft_model2 + ' ' + str(coste) + '\\n')\n",
    "f.close()\n",
    "\n",
    "print('ft_model:', ft_model2)\n",
    "print('\\rEpisodio {:d} Retorno {:.2f}\\t\\t'.format(episode, reward), end='') \n",
    "                          \n",
    "print('\\nFin de entrenamiento. Coste:{:.2f} $'.format(coste))\n"
   ]
  },
  {
   "cell_type": "code",
   "execution_count": null,
   "metadata": {
    "execution": {
     "iopub.execute_input": "2022-12-30T12:09:40.920149Z",
     "iopub.status.busy": "2022-12-30T12:09:40.919540Z",
     "iopub.status.idle": "2022-12-30T12:09:41.187564Z",
     "shell.execute_reply": "2022-12-30T12:09:41.186512Z",
     "shell.execute_reply.started": "2022-12-30T12:09:40.920104Z"
    }
   },
   "outputs": [],
   "source": [
    "# Para comprobar el estado del entrenamiento sin necesidad \n",
    "# de esperar los 300 segundos\n",
    "response = openai.FineTune.retrieve(id=id_FT)\n",
    "print(response['status'])\n",
    "#print(response)\n"
   ]
  },
  {
   "cell_type": "markdown",
   "metadata": {},
   "source": [
    "# Gráficas de resultados"
   ]
  },
  {
   "cell_type": "raw",
   "metadata": {
    "execution": {
     "iopub.execute_input": "2022-12-31T10:33:03.224920Z",
     "iopub.status.busy": "2022-12-31T10:33:03.224558Z",
     "iopub.status.idle": "2022-12-31T10:33:03.606428Z",
     "shell.execute_reply": "2022-12-31T10:33:03.605275Z",
     "shell.execute_reply.started": "2022-12-31T10:33:03.224889Z"
    }
   },
   "source": [
    "episode = 10\n",
    "reward_graph = []\n",
    "loss_graph = []\n",
    "loss_episode=[]\n",
    "reward_episode=[]\n",
    "for i in range(episode):\n",
    "    epoch = i +1\n",
    "    file_agent = '/kaggle/working/agent' + str(epoch) + '.csv'\n",
    "    \n",
    "    print(file_agent)\n",
    "    df_results = pd.read_csv(file_agent)\n",
    "    reward_graph.append(df_results['rewT2T3'].sum()) \n",
    "    loss_graph.append(df_results['loss'].sum())\n",
    "    loss_episode.append(df_results['loss'])\n",
    "    reward_episode.append(df_results['rewT2T3'])\n",
    "    "
   ]
  },
  {
   "cell_type": "code",
   "execution_count": 25,
   "metadata": {
    "execution": {
     "iopub.execute_input": "2022-12-31T10:58:24.924707Z",
     "iopub.status.busy": "2022-12-31T10:58:24.924363Z",
     "iopub.status.idle": "2022-12-31T10:58:25.105835Z",
     "shell.execute_reply": "2022-12-31T10:58:25.104874Z",
     "shell.execute_reply.started": "2022-12-31T10:58:24.924676Z"
    }
   },
   "outputs": [
    {
     "data": {
      "image/png": "[encoded data removed]",
      "text/plain": [
       "<Figure size 432x288 with 1 Axes>"
      ]
     },
     "metadata": {
      "needs_background": "light"
     },
     "output_type": "display_data"
    }
   ],
   "source": [
    "x = np.linspace(1, 10, 10)\n",
    "\n",
    "plt.plot(x, reward_graph, label='Recompensa')\n",
    "#Agregamos las etiquetas y añadimos una leyenda.\n",
    "plt.ylabel('Recompensa')\n",
    "plt.xlabel('Episodio')\n",
    "plt.title(\"Evolución recompensa Agente 2\")\n",
    "plt.show()"
   ]
  },
  {
   "cell_type": "code",
   "execution_count": 24,
   "metadata": {
    "execution": {
     "iopub.execute_input": "2022-12-31T10:57:04.251980Z",
     "iopub.status.busy": "2022-12-31T10:57:04.251578Z",
     "iopub.status.idle": "2022-12-31T10:57:04.434941Z",
     "shell.execute_reply": "2022-12-31T10:57:04.433872Z",
     "shell.execute_reply.started": "2022-12-31T10:57:04.251929Z"
    }
   },
   "outputs": [
    {
     "data": {
      "image/png": "[encoded data removed]",
      "text/plain": [
       "<Figure size 432x288 with 1 Axes>"
      ]
     },
     "metadata": {
      "needs_background": "light"
     },
     "output_type": "display_data"
    }
   ],
   "source": [
    "x = np.linspace(1, 10, 10)\n",
    "\n",
    "plt.plot(x, loss_graph, label='Pérdida')\n",
    "\n",
    "#Agregamos las etiquetas y añadimos una leyenda.\n",
    "plt.xlabel('Episodio')\n",
    "plt.ylabel('Pérdida')\n",
    "plt.title(\"Evolución pérdida Agente 2\")\n",
    "plt.show()"
   ]
  }
 ],
 "metadata": {
  "kernelspec": {
   "display_name": "Python 3 (ipykernel)",
   "language": "python",
   "name": "python3"
  },
  "language_info": {
   "codemirror_mode": {
    "name": "ipython",
    "version": 3
   },
   "file_extension": ".py",
   "mimetype": "text/x-python",
   "name": "python",
   "nbconvert_exporter": "python",
   "pygments_lexer": "ipython3",
   "version": "3.7.4"
  }
 },
 "nbformat": 4,
 "nbformat_minor": 4
}
